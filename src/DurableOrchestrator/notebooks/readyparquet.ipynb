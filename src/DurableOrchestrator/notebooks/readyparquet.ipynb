{
 "cells": [
  {
   "cell_type": "markdown",
   "metadata": {},
   "source": [
    "# Multi Purpose Notebook\n",
    "\n",
    "This note book contains the following python code:\n",
    "\n",
    "- Testing parquet transformation\n",
    "- Generating sample PDFs (Receipts, Invoices, etc.) - the current layout is for a receipt\n",
    "- Counting the number of blobs within a container (.NET)"
   ]
  },
  {
   "cell_type": "markdown",
   "metadata": {},
   "source": [
    "## Testing parquet transformation\n",
    "\n",
    "### Install the required packages\n",
    "\n",
    "First we would need to ensure we have the right packages installed. We can do this by running the following command:\n"
   ]
  },
  {
   "cell_type": "code",
   "execution_count": null,
   "metadata": {
    "dotnet_interactive": {
     "language": "csharp"
    },
    "polyglot_notebook": {
     "kernelName": "csharp"
    }
   },
   "outputs": [],
   "source": [
    "!pip install pandas\n",
    "!pip install pyarrow"
   ]
  },
  {
   "cell_type": "markdown",
   "metadata": {},
   "source": [
    "### Validating the transformation\n",
    "\n",
    "Using the following python code to examine the transformed parquet file"
   ]
  },
  {
   "cell_type": "code",
   "execution_count": null,
   "metadata": {
    "dotnet_interactive": {
     "language": "csharp"
    },
    "polyglot_notebook": {
     "kernelName": "csharp"
    }
   },
   "outputs": [],
   "source": [
    "import pandas as pd\n",
    "pd.read_parquet('sample.parquet', engine='pyarrow')"
   ]
  },
  {
   "cell_type": "markdown",
   "metadata": {},
   "source": [
    "## Creating Sample PDFs\n",
    "\n",
    "This section address the need to create multiple types of receipts, with random customer names, random number of items, spanning cross pages. this is to check the ingestion workflow for receipts.\n",
    "\n",
    "### Install the required packages"
   ]
  },
  {
   "cell_type": "code",
   "execution_count": null,
   "metadata": {},
   "outputs": [],
   "source": [
    "!pip install reportlab\n",
    "!pip install faker"
   ]
  },
  {
   "cell_type": "markdown",
   "metadata": {},
   "source": [
    "### Selecting the right font\n",
    "\n",
    "The following code shows what are the current available fonts (on the OS you currently running)"
   ]
  },
  {
   "cell_type": "code",
   "execution_count": null,
   "metadata": {},
   "outputs": [],
   "source": [
    "from reportlab.pdfgen import canvas\n",
    "from reportlab.lib.pagesizes import letter\n",
    "\n",
    "def show_font_styles(filename='Font_Styles.pdf'):\n",
    "    c = canvas.Canvas(filename, pagesize=letter)\n",
    "    available_fonts = c.getAvailableFonts()\n",
    "    y_position = 750  # Start position on the page for the first font\n",
    "    c.setFont(\"Helvetica\", 12)  # Set a default font for the title\n",
    "    \n",
    "    c.drawString(40, y_position + 20, \"Available Fonts and their Styles:\")\n",
    "    y_position -= 30  # Move down for the first entry\n",
    "\n",
    "    for font in available_fonts:\n",
    "        c.setFont(font, 12)  # Set the font to each available typeface\n",
    "        c.drawString(40, y_position, f\"{font}\")\n",
    "        y_position -= 20  # Move down after each font name\n",
    "        \n",
    "        if y_position < 40:  # Check if we are near the bottom of the page\n",
    "            c.showPage()\n",
    "            y_position = 750  # Reset position at the top of a new page\n",
    "\n",
    "    c.save()\n",
    "    print(f\"Font styles displayed in {filename}\")\n",
    "\n",
    "show_font_styles()\n"
   ]
  },
  {
   "cell_type": "markdown",
   "metadata": {},
   "source": [
    "### Generating Receipts PDF\n",
    "\n",
    "Following code generates a sample receipt PDF with random customer name, random number of items, and random total amount. It also adds signatures and date of signatures (for some of the files)\n",
    "\n",
    "Once this code is loaded, it can be tested in two ways \n",
    "\n",
    "#### Single file generation\n",
    "\n",
    "```python\n",
    "create_random_invoice(\"Random_Invoice1.pdf\", num_items=random.randint(3, 15))\n",
    "```\n",
    "\n",
    "#### Multiple file generation\n",
    "\n",
    "```python\n",
    "generate_multiple_invoices()\n",
    "```\n"
   ]
  },
  {
   "cell_type": "code",
   "execution_count": null,
   "metadata": {},
   "outputs": [],
   "source": [
    "import random\n",
    "from faker import Faker\n",
    "from reportlab.lib.pagesizes import letter\n",
    "from reportlab.platypus import SimpleDocTemplate, Paragraph, Spacer, Table, TableStyle, PageBreak\n",
    "from reportlab.lib.styles import getSampleStyleSheet\n",
    "from reportlab.lib import colors\n",
    "from datetime import datetime, timedelta\n",
    "\n",
    "# Initialize Faker\n",
    "fake = Faker()\n",
    "# Function to generate a random date within the last 30 days\n",
    "def random_date_last_30_days():\n",
    "    today = datetime.now()\n",
    "    days_back = random.randint(0, 30)\n",
    "    random_date = today - timedelta(days=days_back)\n",
    "    return random_date.strftime(\"%Y-%m-%d\")\n",
    "\n",
    "def create_random_invoice(filename, num_items=5):\n",
    "    # Prepare filename path\n",
    "    filename = 'generated/' + filename\n",
    "\n",
    "    # Create document template\n",
    "    doc = SimpleDocTemplate(filename, pagesize=letter)\n",
    "    story = []\n",
    "    styles = getSampleStyleSheet()\n",
    "\n",
    "    # Company and customer headers\n",
    "    company_header = Paragraph(\"<font size=12><b>CONTOSO</b></font><br/>Innovation drives progress\", styles[\"Heading2\"])\n",
    "    customer_name = fake.company()\n",
    "    customer_address = fake.address().replace('\\n', ', ')\n",
    "    customer_info = Paragraph(f\"<b>CUSTOMER:</b><br/>{customer_name}<br/>{customer_address}\", styles[\"Normal\"])\n",
    "    \n",
    "    # Align headers in a table for proper layout\n",
    "    header_table = Table([[company_header, customer_info]], colWidths=[270, 270])\n",
    "    header_table.setStyle(TableStyle([\n",
    "        ('VALIGN', (0,0), (-1,-1), 'TOP'),\n",
    "        ('ALIGN', (1,0), (1,0), 'RIGHT')\n",
    "    ]))\n",
    "    story.append(header_table)\n",
    "    story.append(Spacer(1, 12))\n",
    "\n",
    "    # Invoice details\n",
    "    story.append(Paragraph(f\"ISSUED: {fake.date_this_year()}\", styles[\"Normal\"]))\n",
    "    story.append(Spacer(1, 20))\n",
    "\n",
    "    # Table data\n",
    "    header = [[\"PRODUCT ID\", \"UNIT PRICE\", \"QUANTITY\", \"TOTAL PRICE\"]]\n",
    "    data = []\n",
    "    total_price = 0\n",
    "\n",
    "    # Generate table data\n",
    "    for i in range(num_items):\n",
    "        product_id = f\"{random.randint(1,100)}-{''.join(random.choices('ABCDEFGHIJKLMNOPQRSTUVWXYZ', k=2))}-XX\"\n",
    "        unit_price = random.uniform(0.5, 100.0)\n",
    "        quantity = random.randint(1, 20)\n",
    "        line_total = unit_price * quantity\n",
    "        total_price += line_total\n",
    "        data.append([product_id, f\"{unit_price:.2f}\", str(quantity), f\"{line_total:.2f}\"])\n",
    "\n",
    "    data.append([\"TOTAL\", \"\", \"\", f\"{total_price:.2f}\"])\n",
    "\n",
    "    # Splitting data for the first page and subsequent pages\n",
    "    first_page_data = header + data[:20]  # Including header\n",
    "    subsequent_data = data[20:]           # No header for subsequent pages\n",
    "\n",
    "    # Define table style\n",
    "    table_style = TableStyle([\n",
    "        ('BACKGROUND', (0,0), (-1,0), colors.grey),\n",
    "        ('TEXTCOLOR', (0,0), (-1,0), colors.whitesmoke),\n",
    "        ('ALIGN', (0,0), (-1,-1), 'CENTER'),\n",
    "        ('FONTNAME', (0,0), (-1,0), 'Helvetica-Bold'),\n",
    "        ('BOTTOMPADDING', (0,0), (-1,0), 12),\n",
    "        ('BACKGROUND', (0,1), (-1,-1), colors.beige),\n",
    "    ])\n",
    "\n",
    "    # First page table\n",
    "    if first_page_data:\n",
    "        table1 = Table(first_page_data, colWidths=[100, 100, 100, 100], repeatRows=1, style=table_style)\n",
    "        story.append(table1)\n",
    "        story.append(PageBreak())  # Insert a page break after the first table\n",
    "\n",
    "    # Subsequent pages table\n",
    "    if subsequent_data:\n",
    "        table2 = Table(subsequent_data, colWidths=[100, 100, 100, 100], repeatRows=0, style=table_style)\n",
    "        story.append(table2)\n",
    "\n",
    "    # Space before signatures\n",
    "    story.append(Spacer(1, 12 * 5))  # 5 lines of space\n",
    "    \n",
    "    # Signature placeholders\n",
    "    distributor_signed = random.choice([True, False])\n",
    "    customer_signed = random.choice([True, False])\n",
    "    \n",
    "    distributor_date = random_date_last_30_days() if distributor_signed else \"\"\n",
    "    customer_date = random_date_last_30_days() if customer_signed else \"\"\n",
    "\n",
    "\n",
    "    signatures_data = [\n",
    "    [\"Distributor Signature:\", \"John Doe\" if distributor_signed else \"\", \"Date:\", \"\", distributor_date],\n",
    "    [\"Customer Signature:\", \"~~/\\\\/\\\\~~\" if customer_signed else \"\", \"Date:\", \"\", customer_date]\n",
    "    ]\n",
    "\n",
    "\n",
    "    # Adjust column widths to accommodate the new structure\n",
    "    signature_table = Table(signatures_data, colWidths=[150, 150, 50, 5, 95])  # Adjust colWidths as needed\n",
    "\n",
    "    # Style adjustments, ensuring 'Date:' label is always visible\n",
    "    signature_table.setStyle(TableStyle([\n",
    "        ('SPAN', (2,0), (3,0)),  # Span 'Date:' label over an empty column for alignment\n",
    "        ('SPAN', (2,1), (3,1)),  # Repeat for the second row\n",
    "        ('ALIGN', (1,0), (1,-1), 'CENTER'),  # Center align the signature placeholders\n",
    "        ('ALIGN', (4,0), (4,-1), 'CENTER'),  # Center align the actual date\n",
    "        ('FONTNAME', (1,0), (1,-1), 'Times-Italic'),  # Use a more 'handwritten' font if available\n",
    "    ]))\n",
    "\n",
    "    story.append(signature_table)\n",
    "\n",
    "    # Build the document\n",
    "    doc.build(story)\n",
    "\n",
    "\n",
    "\n",
    "def generate_multiple_invoices():\n",
    "    # Random number of invoices to generate\n",
    "    num_invoices = random.randint(1, 10)\n",
    "    print(f\"Generating {num_invoices} invoices...\")\n",
    "\n",
    "    for _ in range(num_invoices):\n",
    "        # Create a random filename for each invoice\n",
    "        filename = f\"{fake.unique.word()}_Invoice_{fake.random_int(min=100, max=999)}.pdf\"\n",
    "        # Random number of items in each invoice\n",
    "        num_items = random.randint(20, 50)\n",
    "        # Call the invoice creation function\n",
    "        create_random_invoice(filename, num_items=num_items)\n",
    "        print(f\"Generated invoice '{filename}' with {num_items} items.\")\n",
    "\n",
    "def generate_multiple_invoices():\n",
    "    # Random number of invoices to generate\n",
    "    num_invoices = random.randint(1, 10)\n",
    "    print(f\"Generating {num_invoices} invoices...\")\n",
    "\n",
    "    for _ in range(num_invoices):\n",
    "        # Create a random filename for each invoice\n",
    "        filename = f\"{fake.unique.word()}_Invoice_{fake.random_int(min=100, max=999)}.pdf\"\n",
    "        # Random number of items in each invoice\n",
    "        num_items = random.randint(20, 50)\n",
    "        # Call the invoice creation function\n",
    "        create_random_invoice(filename, num_items=num_items)\n",
    "        print(f\"Generated invoice '{filename}' with {num_items} items.\")\n"
   ]
  },
  {
   "cell_type": "code",
   "execution_count": null,
   "metadata": {},
   "outputs": [],
   "source": [
    "# Testing single file generation\n",
    "create_random_invoice(\"Random_Invoice1.pdf\", num_items=random.randint(3, 15))\n",
    "# Testing multiple file generation\n",
    "generate_multiple_invoices()"
   ]
  },
  {
   "cell_type": "markdown",
   "metadata": {},
   "source": [
    "## Counting Blobs in a container\n",
    "\n",
    "The following is sample Python code that uses the Azure Blob Storage SDK to count the number of blobs in a container.\n",
    "\n",
    "### Install the required packages"
   ]
  },
  {
   "cell_type": "code",
   "execution_count": null,
   "metadata": {},
   "outputs": [],
   "source": [
    "!pip install azure-storage-blob\n",
    "!pip install nest_asyncio\n",
    "!pip install aiohttp\n"
   ]
  },
  {
   "cell_type": "markdown",
   "metadata": {},
   "source": [
    "### Counting the blobs\n",
    "\n",
    "The only change required here is to set the connection string for the blob storage account and the container name.\n"
   ]
  },
  {
   "cell_type": "code",
   "execution_count": null,
   "metadata": {},
   "outputs": [],
   "source": [
    "import asyncio\n",
    "from azure.storage.blob.aio import BlobServiceClient\n",
    "import nest_asyncio\n",
    "\n",
    "# Apply nest_asyncio to enable running in notebooks or other already running event loops\n",
    "nest_asyncio.apply()\n",
    "\n",
    "async def list_blobs():\n",
    "    connection_string = \"\"\n",
    "    container_mame = ''\n",
    "    blob_service_client = BlobServiceClient.from_connection_string(connection_string)\n",
    "    container_client = blob_service_client.get_container_client(container_mame)\n",
    "\n",
    "    count = 0\n",
    "    # Ensure we use asynchronous listing\n",
    "    blob_pager = container_client.list_blobs()\n",
    "    \n",
    "    # Correctly iterate over pages asynchronously\n",
    "    async for page in blob_pager.by_page():\n",
    "        blobs = [blob async for blob in page]\n",
    "        count += len(blobs)\n",
    "    \n",
    "    print(f\"Number of blobs in the container: {count}\")\n",
    "\n",
    "# Execute the asynchronous function using asyncio\n",
    "asyncio.get_event_loop().run_until_complete(list_blobs())\n"
   ]
  }
 ],
 "metadata": {
  "kernelspec": {
   "display_name": ".venv",
   "language": "python",
   "name": "python3"
  },
  "language_info": {
   "codemirror_mode": {
    "name": "ipython",
    "version": 3
   },
   "file_extension": ".py",
   "mimetype": "text/x-python",
   "name": "python",
   "nbconvert_exporter": "python",
   "pygments_lexer": "ipython3",
   "version": "3.12.2"
  },
  "polyglot_notebook": {
   "kernelInfo": {
    "defaultKernelName": "csharp",
    "items": [
     {
      "aliases": [],
      "name": "csharp"
     }
    ]
   }
  }
 },
 "nbformat": 4,
 "nbformat_minor": 2
}
